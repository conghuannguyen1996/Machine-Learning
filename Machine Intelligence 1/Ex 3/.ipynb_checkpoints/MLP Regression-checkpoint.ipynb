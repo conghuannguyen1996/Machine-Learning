{
 "cells": [
  {
   "cell_type": "code",
   "execution_count": 5,
   "metadata": {},
   "outputs": [
    {
     "name": "stdout",
     "output_type": "stream",
     "text": [
      "['0.5503 -0.5894\\n', '0.9206 -0.2507\\n', '0.5359 -0.0468\\n', '0.6081 -0.3402\\n', '0.0202 0.2857\\n', '0.8545 -1.0683\\n', '0.2357 0.8605\\n', '0.4847 -0.0801\\n', '0.3996 0.6837\\n', '0.1957 1.1850\\n']\n"
     ]
    }
   ],
   "source": [
    "with open('RegressionData.txt') as f:\n",
    "    data = f.readlines()\n",
    "\n",
    "print(data)"
   ]
  },
  {
   "cell_type": "code",
   "execution_count": null,
   "metadata": {},
   "outputs": [],
   "source": []
  }
 ],
 "metadata": {
  "kernelspec": {
   "display_name": "Python 3",
   "language": "python",
   "name": "python3"
  },
  "language_info": {
   "codemirror_mode": {
    "name": "ipython",
    "version": 3
   },
   "file_extension": ".py",
   "mimetype": "text/x-python",
   "name": "python",
   "nbconvert_exporter": "python",
   "pygments_lexer": "ipython3",
   "version": "3.7.4"
  }
 },
 "nbformat": 4,
 "nbformat_minor": 2
}
